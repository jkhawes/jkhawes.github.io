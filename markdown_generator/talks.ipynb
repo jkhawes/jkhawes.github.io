{
 "cells": [
  {
   "cell_type": "markdown",
   "metadata": {
    "deletable": true,
    "editable": true
   },
   "source": [
    "# Talks markdown generator for academicpages\n",
    "\n",
    "Takes a TSV of talks with metadata and converts them for use with [academicpages.github.io](academicpages.github.io). This is an interactive Jupyter notebook ([see more info here](http://jupyter-notebook-beginner-guide.readthedocs.io/en/latest/what_is_jupyter.html)). The core python code is also in `talks.py`. Run either from the `markdown_generator` folder after replacing `talks.tsv` with one containing your data.\n",
    "\n",
    "TODO: Make this work with BibTex and other databases, rather than Stuart's non-standard TSV format and citation style."
   ]
  },
  {
   "cell_type": "code",
   "execution_count": 6,
   "metadata": {
    "collapsed": false,
    "deletable": true,
    "editable": true
   },
   "outputs": [],
   "source": [
    "import pandas as pd\n",
    "import os"
   ]
  },
  {
   "cell_type": "markdown",
   "metadata": {},
   "source": [
    "## Data format\n",
    "\n",
    "The TSV needs to have the following columns: title, type, url_slug, venue, date, location, talk_url, description, with a header at the top. Many of these fields can be blank, but the columns must be in the TSV.\n",
    "\n",
    "- Fields that cannot be blank: `title`, `url_slug`, `date`. All else can be blank. `type` defaults to \"Talk\" \n",
    "- `date` must be formatted as YYYY-MM-DD.\n",
    "- `url_slug` will be the descriptive part of the .md file and the permalink URL for the page about the paper. \n",
    "    - The .md file will be `YYYY-MM-DD-[url_slug].md` and the permalink will be `https://[yourdomain]/talks/YYYY-MM-DD-[url_slug]`\n",
    "    - The combination of `url_slug` and `date` must be unique, as it will be the basis for your filenames\n",
    "\n",
    "This is how the raw file looks (it doesn't look pretty, use a spreadsheet or other program to edit and create)."
   ]
  },
  {
   "cell_type": "code",
   "execution_count": 7,
   "metadata": {
    "collapsed": false
   },
   "outputs": [
    {
     "name": "stderr",
     "output_type": "stream",
     "text": [
      "'cat' is not recognized as an internal or external command,\n",
      "operable program or batch file.\n"
     ]
    }
   ],
   "source": [
    "!cat talks.tsv"
   ]
  },
  {
   "cell_type": "markdown",
   "metadata": {},
   "source": [
    "## Import TSV\n",
    "\n",
    "Pandas makes this easy with the read_csv function. We are using a TSV, so we specify the separator as a tab, or `\\t`.\n",
    "\n",
    "I found it important to put this data in a tab-separated values format, because there are a lot of commas in this kind of data and comma-separated values can get messed up. However, you can modify the import statement, as pandas also has read_excel(), read_json(), and others."
   ]
  },
  {
   "cell_type": "code",
   "execution_count": 8,
   "metadata": {
    "collapsed": false,
    "deletable": true,
    "editable": true
   },
   "outputs": [
    {
     "data": {
      "text/html": [
       "<div>\n",
       "<style scoped>\n",
       "    .dataframe tbody tr th:only-of-type {\n",
       "        vertical-align: middle;\n",
       "    }\n",
       "\n",
       "    .dataframe tbody tr th {\n",
       "        vertical-align: top;\n",
       "    }\n",
       "\n",
       "    .dataframe thead th {\n",
       "        text-align: right;\n",
       "    }\n",
       "</style>\n",
       "<table border=\"1\" class=\"dataframe\">\n",
       "  <thead>\n",
       "    <tr style=\"text-align: right;\">\n",
       "      <th></th>\n",
       "      <th>url_slug</th>\n",
       "      <th>speakers</th>\n",
       "      <th>date</th>\n",
       "      <th>title</th>\n",
       "      <th>venue</th>\n",
       "      <th>type</th>\n",
       "      <th>location</th>\n",
       "      <th>talk_url</th>\n",
       "      <th>description</th>\n",
       "    </tr>\n",
       "  </thead>\n",
       "  <tbody>\n",
       "    <tr>\n",
       "      <th>0</th>\n",
       "      <td>JH13</td>\n",
       "      <td>Hawes, JK.</td>\n",
       "      <td>2024-03-05</td>\n",
       "      <td>Comparing the carbon footprints of urban and c...</td>\n",
       "      <td>Invited Seminar, Department of Sustainable Agr...</td>\n",
       "      <td>Online Oral.</td>\n",
       "      <td>University of Patras, Patras, Greece.</td>\n",
       "      <td>NaN</td>\n",
       "      <td>NaN</td>\n",
       "    </tr>\n",
       "    <tr>\n",
       "      <th>1</th>\n",
       "      <td>JH12</td>\n",
       "      <td>Hawes, JK, Gounaridis, D., Goldstein, B., Newe...</td>\n",
       "      <td>2023-11-10</td>\n",
       "      <td>Urban Agriculture: Good for People, Places, Pl...</td>\n",
       "      <td>Center for Sustainable Systems External Adviso...</td>\n",
       "      <td>Oral.</td>\n",
       "      <td>University of Michigan, Ann Arbor, MI, USA.</td>\n",
       "      <td>NaN</td>\n",
       "      <td>NaN</td>\n",
       "    </tr>\n",
       "    <tr>\n",
       "      <th>2</th>\n",
       "      <td>JH11</td>\n",
       "      <td>Hawes, JK.</td>\n",
       "      <td>2023-10-05</td>\n",
       "      <td>Invited speaker: Climate Change and the Univer...</td>\n",
       "      <td>American Studies 301.</td>\n",
       "      <td>Online Oral.</td>\n",
       "      <td>Purdue University, West Lafayette, IN, USA.</td>\n",
       "      <td>NaN</td>\n",
       "      <td>NaN</td>\n",
       "    </tr>\n",
       "    <tr>\n",
       "      <th>3</th>\n",
       "      <td>JH10</td>\n",
       "      <td>Hawes, JK.</td>\n",
       "      <td>2023-02-14</td>\n",
       "      <td>Panel moderator for Climate Change: Part of th...</td>\n",
       "      <td>Indiana Council on World Affairs.</td>\n",
       "      <td>Online Moderator.</td>\n",
       "      <td>Indianapolis, IN, USA.</td>\n",
       "      <td>NaN</td>\n",
       "      <td>NaN</td>\n",
       "    </tr>\n",
       "    <tr>\n",
       "      <th>4</th>\n",
       "      <td>JH9</td>\n",
       "      <td>Hawes, JK.</td>\n",
       "      <td>2022-12-01</td>\n",
       "      <td>Invited guest lecture: Decolonizing Sustainabi...</td>\n",
       "      <td>Environ 207, Sustainability and Society.</td>\n",
       "      <td>Oral.</td>\n",
       "      <td>University of Michigan, Ann Arbor, MI, USA.</td>\n",
       "      <td>NaN</td>\n",
       "      <td>NaN</td>\n",
       "    </tr>\n",
       "    <tr>\n",
       "      <th>5</th>\n",
       "      <td>JH8</td>\n",
       "      <td>Hawes, JK.</td>\n",
       "      <td>2022-11-30</td>\n",
       "      <td>Invited panelist: Closing the Loop: Opportunit...</td>\n",
       "      <td>Industrial Ecology Day.</td>\n",
       "      <td>Online Oral.</td>\n",
       "      <td>University of California-Davis, Davis, CA, USA.</td>\n",
       "      <td>https://www.youtube.com/watch?v=zUlwaabElS0</td>\n",
       "      <td>NaN</td>\n",
       "    </tr>\n",
       "    <tr>\n",
       "      <th>6</th>\n",
       "      <td>JH7</td>\n",
       "      <td>Hawes, JK, Gounaridis, D., Goldstein, B., Newe...</td>\n",
       "      <td>2022-10-01</td>\n",
       "      <td>Invited guest lecture: Urban Agriculture: Good...</td>\n",
       "      <td>SEAS 517, Urban Sustainability.</td>\n",
       "      <td>Oral.</td>\n",
       "      <td>University of Michigan, Ann Arbor, MI, USA.</td>\n",
       "      <td>NaN</td>\n",
       "      <td>NaN</td>\n",
       "    </tr>\n",
       "    <tr>\n",
       "      <th>7</th>\n",
       "      <td>JH6</td>\n",
       "      <td>Hawes, JK.</td>\n",
       "      <td>2022-02-01.</td>\n",
       "      <td>Invited panel moderator: Water Systems.</td>\n",
       "      <td>Michigan University-Wide Sustainability &amp; Envi...</td>\n",
       "      <td>Online Moderator.</td>\n",
       "      <td>University of Michigan, Ann Arbor, MI, USA.</td>\n",
       "      <td>NaN</td>\n",
       "      <td>NaN</td>\n",
       "    </tr>\n",
       "    <tr>\n",
       "      <th>8</th>\n",
       "      <td>JH5</td>\n",
       "      <td>Hawes, JK.</td>\n",
       "      <td>2020-07-30.</td>\n",
       "      <td>Climate Change: Part of the Great Decisions sp...</td>\n",
       "      <td>Indiana Council on World Affairs.</td>\n",
       "      <td>Online Oral.</td>\n",
       "      <td>Indianapolis, IN, USA.</td>\n",
       "      <td>NaN</td>\n",
       "      <td>NaN</td>\n",
       "    </tr>\n",
       "    <tr>\n",
       "      <th>9</th>\n",
       "      <td>JH4</td>\n",
       "      <td>Schirm, V, Hawes, JK, Russel, M.</td>\n",
       "      <td>2018-09-01.</td>\n",
       "      <td>Invited guest lecture: Deep Leadership and App...</td>\n",
       "      <td>EEE 290, Professional Development Seminar.</td>\n",
       "      <td>Oral.</td>\n",
       "      <td>Purdue University, West Lafayette, IN, USA.</td>\n",
       "      <td>NaN</td>\n",
       "      <td>NaN</td>\n",
       "    </tr>\n",
       "    <tr>\n",
       "      <th>10</th>\n",
       "      <td>JH3</td>\n",
       "      <td>Hawes, JK, Kanach, A.</td>\n",
       "      <td>2018-08-01.</td>\n",
       "      <td>Invited guest lecture: How we got here: A look...</td>\n",
       "      <td>CE 597.</td>\n",
       "      <td>Oral.</td>\n",
       "      <td>Purdue University, West Lafayette, IN, USA.</td>\n",
       "      <td>NaN</td>\n",
       "      <td>NaN</td>\n",
       "    </tr>\n",
       "    <tr>\n",
       "      <th>11</th>\n",
       "      <td>JH2</td>\n",
       "      <td>Ma, Z, Hawes, JK, Clarke, M, Nixon, R, Domenec...</td>\n",
       "      <td>2017-10-01.</td>\n",
       "      <td>Invited guest lecture: Introduction to Natural...</td>\n",
       "      <td>Introduction to Nat. Resources and Environment...</td>\n",
       "      <td>Oral.</td>\n",
       "      <td>Purdue University, West Lafayette, IN, USA.</td>\n",
       "      <td>NaN</td>\n",
       "      <td>NaN</td>\n",
       "    </tr>\n",
       "    <tr>\n",
       "      <th>12</th>\n",
       "      <td>JH1</td>\n",
       "      <td>Hawes, JK.</td>\n",
       "      <td>2016-08-01.</td>\n",
       "      <td>Safe Water in Developing Countries: Rethinking...</td>\n",
       "      <td>Environmental and Ecological Engineering Exter...</td>\n",
       "      <td>Oral.</td>\n",
       "      <td>Purdue University, West Lafayette, IN, USA.</td>\n",
       "      <td>NaN</td>\n",
       "      <td>NaN</td>\n",
       "    </tr>\n",
       "  </tbody>\n",
       "</table>\n",
       "</div>"
      ],
      "text/plain": [
       "   url_slug                                           speakers         date  \\\n",
       "0      JH13                                         Hawes, JK.   2024-03-05   \n",
       "1      JH12  Hawes, JK, Gounaridis, D., Goldstein, B., Newe...   2023-11-10   \n",
       "2      JH11                                         Hawes, JK.   2023-10-05   \n",
       "3      JH10                                         Hawes, JK.   2023-02-14   \n",
       "4       JH9                                         Hawes, JK.   2022-12-01   \n",
       "5       JH8                                         Hawes, JK.   2022-11-30   \n",
       "6       JH7  Hawes, JK, Gounaridis, D., Goldstein, B., Newe...   2022-10-01   \n",
       "7       JH6                                         Hawes, JK.  2022-02-01.   \n",
       "8       JH5                                         Hawes, JK.  2020-07-30.   \n",
       "9       JH4                   Schirm, V, Hawes, JK, Russel, M.  2018-09-01.   \n",
       "10      JH3                              Hawes, JK, Kanach, A.  2018-08-01.   \n",
       "11      JH2  Ma, Z, Hawes, JK, Clarke, M, Nixon, R, Domenec...  2017-10-01.   \n",
       "12      JH1                                         Hawes, JK.  2016-08-01.   \n",
       "\n",
       "                                                title  \\\n",
       "0   Comparing the carbon footprints of urban and c...   \n",
       "1   Urban Agriculture: Good for People, Places, Pl...   \n",
       "2   Invited speaker: Climate Change and the Univer...   \n",
       "3   Panel moderator for Climate Change: Part of th...   \n",
       "4   Invited guest lecture: Decolonizing Sustainabi...   \n",
       "5   Invited panelist: Closing the Loop: Opportunit...   \n",
       "6   Invited guest lecture: Urban Agriculture: Good...   \n",
       "7             Invited panel moderator: Water Systems.   \n",
       "8   Climate Change: Part of the Great Decisions sp...   \n",
       "9   Invited guest lecture: Deep Leadership and App...   \n",
       "10  Invited guest lecture: How we got here: A look...   \n",
       "11  Invited guest lecture: Introduction to Natural...   \n",
       "12  Safe Water in Developing Countries: Rethinking...   \n",
       "\n",
       "                                                venue               type  \\\n",
       "0   Invited Seminar, Department of Sustainable Agr...       Online Oral.   \n",
       "1   Center for Sustainable Systems External Adviso...              Oral.   \n",
       "2                               American Studies 301.       Online Oral.   \n",
       "3                  Indiana Council on World Affairs.   Online Moderator.   \n",
       "4           Environ 207, Sustainability and Society.               Oral.   \n",
       "5                             Industrial Ecology Day.       Online Oral.   \n",
       "6                   SEAS 517, Urban Sustainability.                Oral.   \n",
       "7   Michigan University-Wide Sustainability & Envi...  Online Moderator.   \n",
       "8                 Indiana Council on World Affairs.         Online Oral.   \n",
       "9          EEE 290, Professional Development Seminar.              Oral.   \n",
       "10                                           CE 597.               Oral.   \n",
       "11  Introduction to Nat. Resources and Environment...              Oral.   \n",
       "12  Environmental and Ecological Engineering Exter...              Oral.   \n",
       "\n",
       "                                             location  \\\n",
       "0               University of Patras, Patras, Greece.   \n",
       "1        University of Michigan, Ann Arbor, MI, USA.    \n",
       "2         Purdue University, West Lafayette, IN, USA.   \n",
       "3                              Indianapolis, IN, USA.   \n",
       "4        University of Michigan, Ann Arbor, MI, USA.    \n",
       "5   University of California-Davis, Davis, CA, USA.     \n",
       "6        University of Michigan, Ann Arbor, MI, USA.    \n",
       "7        University of Michigan, Ann Arbor, MI, USA.    \n",
       "8                              Indianapolis, IN, USA.   \n",
       "9         Purdue University, West Lafayette, IN, USA.   \n",
       "10        Purdue University, West Lafayette, IN, USA.   \n",
       "11        Purdue University, West Lafayette, IN, USA.   \n",
       "12        Purdue University, West Lafayette, IN, USA.   \n",
       "\n",
       "                                        talk_url  description  \n",
       "0                                            NaN          NaN  \n",
       "1                                            NaN          NaN  \n",
       "2                                            NaN          NaN  \n",
       "3                                            NaN          NaN  \n",
       "4                                            NaN          NaN  \n",
       "5   https://www.youtube.com/watch?v=zUlwaabElS0           NaN  \n",
       "6                                            NaN          NaN  \n",
       "7                                            NaN          NaN  \n",
       "8                                            NaN          NaN  \n",
       "9                                            NaN          NaN  \n",
       "10                                           NaN          NaN  \n",
       "11                                           NaN          NaN  \n",
       "12                                           NaN          NaN  "
      ]
     },
     "execution_count": 8,
     "metadata": {},
     "output_type": "execute_result"
    }
   ],
   "source": [
    "talks = pd.read_csv(\"talks.tsv\", sep=\"\\t\", header=0)\n",
    "talks"
   ]
  },
  {
   "cell_type": "markdown",
   "metadata": {},
   "source": [
    "## Escape special characters\n",
    "\n",
    "YAML is very picky about how it takes a valid string, so we are replacing single and double quotes (and ampersands) with their HTML encoded equivilents. This makes them look not so readable in raw format, but they are parsed and rendered nicely."
   ]
  },
  {
   "cell_type": "code",
   "execution_count": 9,
   "metadata": {
    "collapsed": false,
    "deletable": true,
    "editable": true
   },
   "outputs": [],
   "source": [
    "html_escape_table = {\n",
    "    \"&\": \"&amp;\",\n",
    "    '\"': \"&quot;\",\n",
    "    \"'\": \"&apos;\"\n",
    "    }\n",
    "\n",
    "def html_escape(text):\n",
    "    if type(text) is str:\n",
    "        return \"\".join(html_escape_table.get(c,c) for c in text)\n",
    "    else:\n",
    "        return \"False\""
   ]
  },
  {
   "cell_type": "markdown",
   "metadata": {},
   "source": [
    "## Creating the markdown files\n",
    "\n",
    "This is where the heavy lifting is done. This loops through all the rows in the TSV dataframe, then starts to concatentate a big string (```md```) that contains the markdown for each type. It does the YAML metadata first, then does the description for the individual page."
   ]
  },
  {
   "cell_type": "code",
   "execution_count": 10,
   "metadata": {
    "collapsed": false,
    "deletable": true,
    "editable": true
   },
   "outputs": [],
   "source": [
    "loc_dict = {}\n",
    "\n",
    "for row, item in talks.iterrows():\n",
    "    \n",
    "    md_filename = str(item.date) + \"-\" + item.url_slug + \".md\"\n",
    "    html_filename = str(item.date) + \"-\" + item.url_slug \n",
    "    year = item.date[:4]\n",
    "    \n",
    "    md = \"---\\ntitle: \\\"\"   + item.title + '\"\\n'\n",
    "    md += \"collection: talks\" + \"\\n\" # This is where we'd add different collections for formatting. \n",
    "    \n",
    "    if len(str(item.type)) > 3:\n",
    "        md += 'type: \"' + item.type + '\"\\n'\n",
    "    else:\n",
    "        md += 'type: \"Talk\"\\n'\n",
    "    \n",
    "    md += \"permalink: /talks/\" + html_filename + \"\\n\"\n",
    "    \n",
    "    if len(str(item.venue)) > 3:\n",
    "        md += 'venue: \"' + item.venue + '\"\\n'\n",
    "        \n",
    "    if len(str(item.location)) > 3:\n",
    "        md += \"date: \" + str(item.date) + \"\\n\"\n",
    "    \n",
    "    if len(str(item.location)) > 3:\n",
    "        md += 'location: \"' + str(item.location) + '\"\\n'\n",
    "           \n",
    "    md += \"---\\n\"\n",
    "    \n",
    "    \n",
    "    if len(str(item.talk_url)) > 3:\n",
    "        md += \"\\n[More information here](\" + item.talk_url + \")\\n\" \n",
    "        \n",
    "    \n",
    "    if len(str(item.description)) > 3:\n",
    "        md += \"\\n\" + html_escape(item.description) + \"\\n\"\n",
    "        \n",
    "        \n",
    "    md_filename = os.path.basename(md_filename)\n",
    "    #print(md)\n",
    "    \n",
    "    with open(\"../_talks/\" + md_filename, 'w') as f:\n",
    "        f.write(md)"
   ]
  },
  {
   "cell_type": "markdown",
   "metadata": {},
   "source": [
    "These files are in the talks directory, one directory below where we're working from."
   ]
  },
  {
   "cell_type": "code",
   "execution_count": 11,
   "metadata": {
    "collapsed": false,
    "deletable": true,
    "editable": true
   },
   "outputs": [
    {
     "name": "stderr",
     "output_type": "stream",
     "text": [
      "'ls' is not recognized as an internal or external command,\n",
      "operable program or batch file.\n"
     ]
    }
   ],
   "source": [
    "!ls ../_talks"
   ]
  },
  {
   "cell_type": "code",
   "execution_count": 12,
   "metadata": {
    "collapsed": false,
    "deletable": true,
    "editable": true
   },
   "outputs": [
    {
     "name": "stderr",
     "output_type": "stream",
     "text": [
      "'cat' is not recognized as an internal or external command,\n",
      "operable program or batch file.\n"
     ]
    }
   ],
   "source": [
    "!cat ../_talks/2013-03-01-tutorial-1.md"
   ]
  }
 ],
 "metadata": {
  "kernelspec": {
   "display_name": "Python 3",
   "language": "python",
   "name": "python3"
  },
  "language_info": {
   "codemirror_mode": {
    "name": "ipython",
    "version": 3
   },
   "file_extension": ".py",
   "mimetype": "text/x-python",
   "name": "python",
   "nbconvert_exporter": "python",
   "pygments_lexer": "ipython3",
   "version": "3.12.5"
  }
 },
 "nbformat": 4,
 "nbformat_minor": 0
}
